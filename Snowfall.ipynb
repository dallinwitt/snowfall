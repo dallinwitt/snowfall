{
 "cells": [
  {
   "cell_type": "code",
   "execution_count": 1,
   "metadata": {},
   "outputs": [],
   "source": [
    "import pandas as pd\n",
    "import numpy as np\n",
    "import datetime as dt\n",
    "import matplotlib.pyplot as plt\n",
    "from pandas.plotting import register_matplotlib_converters\n",
    "register_matplotlib_converters()"
   ]
  },
  {
   "cell_type": "code",
   "execution_count": 2,
   "metadata": {},
   "outputs": [
    {
     "name": "stderr",
     "output_type": "stream",
     "text": [
      "C:\\Users\\dalli\\anaconda3\\envs\\Python and R Main\\lib\\site-packages\\pandas\\core\\generic.py:5303: SettingWithCopyWarning: \n",
      "A value is trying to be set on a copy of a slice from a DataFrame.\n",
      "Try using .loc[row_indexer,col_indexer] = value instead\n",
      "\n",
      "See the caveats in the documentation: https://pandas.pydata.org/pandas-docs/stable/user_guide/indexing.html#returning-a-view-versus-a-copy\n",
      "  self[name] = value\n"
     ]
    }
   ],
   "source": [
    "#import the csv as a pandas dataframe\n",
    "snow = pd.read_csv('Telluride - Colorado.csv', parse_dates=[0], header = 0, names = ['date', 'new24h', 'season_cum', 'base'], index_col=0)\n",
    "\n",
    "#remove the units from new snow and base depth columns and coerce to int dtype\n",
    "snow['new24h'] = snow['new24h'].str.replace(r' cm', '')\n",
    "snow['base'] = snow['base'].str.replace(r' cm', '')\n",
    "\n",
    "#drop season total column (recalculated later)\n",
    "snow = snow.drop('season_cum', axis=1)\n",
    "\n",
    "#sort the dataframe by 'date' and resample so every day is included\n",
    "snow = snow.reindex()\n",
    "snow = snow.resample('D').asfreq()\n",
    "\n",
    "#fill NaN values in new snowfall column with 0\n",
    "snow['new24h'] = snow['new24h'].fillna(0)\n",
    "snow['new24h'] = snow['new24h'].astype(int)\n",
    "\n",
    "#replace all 0 values in base depth with NaN\n",
    "snow['base'] = snow['base'].replace(0, np.nan)\n",
    "\n",
    "#create 'year' and 'month' columns\n",
    "snow = snow.reset_index()\n",
    "snow['year'] = pd.DatetimeIndex(snow['date']).year\n",
    "snow['month'] = pd.DatetimeIndex(snow['date']).month\n",
    "\n",
    "#create season column\n",
    "for i in range(len(snow)):\n",
    "    if snow.loc[i, 'month'] >= 11:\n",
    "        snow.loc[i, 'season'] = snow.loc[i, 'year']\n",
    "    elif snow.loc[i, 'month'] <= 3:\n",
    "        snow.loc[i, 'season'] = snow.loc[i, 'year'].astype(int) - 1\n",
    "    else:\n",
    "        snow.loc[i, 'season'] = 0\n",
    "\n",
    "#remove month and year columns, make 'season' int type, set date as index again, create empty season_cum column\n",
    "snow = snow.drop(columns=['month', 'year'])\n",
    "snow['season'] = snow['season'].astype(int, errors='ignore')\n",
    "snow['season_cum'] = ''\n",
    "\n",
    "#create vars needed in for loop\n",
    "x = int(snow['season'].min())\n",
    "y = int(snow['season'].max() + 1)\n",
    "d = pd.DataFrame()\n",
    "\n",
    "#populate season_cum column and fillna on base col\n",
    "for i in range(x, y):\n",
    "    df = snow[snow['season'] == i]\n",
    "    df.base = df['base'].fillna(method = 'ffill')\n",
    "    df.season_cum = df['new24h'].cumsum()\n",
    "    d = d.append(df)\n",
    "\n",
    "for i in range(len(snow)):\n",
    "    snow.loc[i,'season_cum'] = d.loc[i, 'season_cum']\n",
    "    snow.loc[i,'base'] = d.loc[i, 'base']\n",
    "\n",
    "snow.base = snow.base.fillna(0)\n",
    "snow.base = snow.base.astype(int)\n",
    "snow.season_cum = snow.season_cum.astype(int)\n",
    "\n",
    "#make sure season_cum is >= base\n",
    "for i in range(len(snow)):\n",
    "    if snow.loc[i, 'base'] > snow.loc[i, 'season_cum']:\n",
    "        snow.loc[i, 'season_cum'] = snow.loc[i, 'base']"
   ]
  },
  {
   "cell_type": "code",
   "execution_count": 3,
   "metadata": {},
   "outputs": [],
   "source": [
    "#create a composite df with median values\n",
    "snow08 = snow[snow['season'] == 2008].reset_index()\n",
    "snow09 = snow[snow['season'] == 2009].reset_index()\n",
    "snow10 = snow[snow['season'] == 2010].reset_index()\n",
    "snow11 = snow[snow['season'] == 2011].reset_index()\n",
    "snow12 = snow[snow['season'] == 2012].reset_index()\n",
    "snow13 = snow[snow['season'] == 2013].reset_index()\n",
    "snow14 = snow[snow['season'] == 2014].reset_index()\n",
    "snow15 = snow[snow['season'] == 2015].reset_index()\n",
    "snow16 = snow[snow['season'] == 2016].reset_index()\n",
    "\n",
    "season_list = [snow08, snow09, snow10, snow11, snow12, snow13, snow14, snow15, snow16]\n",
    "\n",
    "snow_comp = pd.concat(season_list, axis=1).drop(151)\n",
    "base_avg = snow_comp.iloc[:,[9, 15, 21, 27, 33, 39, 45, 51]].median(axis=1)\n",
    "seasoncum_avg = snow_comp.iloc[:,[11, 17, 23, 29, 35, 41, 47, 53]].median(axis=1)\n",
    "snow_avg = pd.concat([base_avg, seasoncum_avg], axis=1)\n",
    "snow_avg = snow_avg.rename(columns={0:'base', 1:'season_cum'})\n",
    "\n",
    "#remove any precipitous drops in base depth and replace them with nan\n",
    "snow08['base'] = snow08['base'].replace(0, np.nan)\n",
    "snow09['base'] = snow09['base'].replace(0, np.nan)\n",
    "snow10['base'] = snow10['base'].replace(0, np.nan)\n",
    "snow11['base'] = snow11['base'].replace(0, np.nan)\n",
    "snow12['base'] = snow12['base'].replace(0, np.nan)\n",
    "snow13['base'] = snow13['base'].replace(0, np.nan)\n",
    "snow14['base'] = snow14['base'].replace(0, np.nan)\n",
    "snow15['base'] = snow15['base'].replace(0, np.nan)\n",
    "snow16['base'] = snow16['base'].replace(0, np.nan)"
   ]
  },
  {
   "cell_type": "code",
   "execution_count": 4,
   "metadata": {},
   "outputs": [
    {
     "data": {
      "image/png": "[encoded data removed]",
      "text/plain": [
       "<Figure size 432x288 with 1 Axes>"
      ]
     },
     "metadata": {
      "needs_background": "light"
     },
     "output_type": "display_data"
    }
   ],
   "source": [
    "plt.plot('base', data=snow09, alpha=0.1, color='b')\n",
    "plt.plot('season_cum', data=snow09, alpha = 0.1, color='g')\n",
    "\n",
    "plt.plot('base', data=snow10, alpha=0.1, color='b')\n",
    "plt.plot('season_cum', data=snow10, alpha = 0.1, color='g')\n",
    "\n",
    "plt.plot('base', data=snow11, alpha=0.1, color='b')\n",
    "plt.plot('season_cum', data=snow11, alpha = 0.1, color='g')\n",
    "\n",
    "plt.plot('base', data=snow12, alpha=0.1, color='b')\n",
    "plt.plot('season_cum', data=snow12, alpha = 0.1, color='g')\n",
    "\n",
    "plt.plot('base', data=snow13, alpha=0.1, color='b')\n",
    "plt.plot('season_cum', data=snow13, alpha = 0.1, color='g')\n",
    "\n",
    "plt.plot('base', data=snow14, alpha=0.1, color='b')\n",
    "plt.plot('season_cum', data=snow14, alpha = 0.1, color='g')\n",
    "\n",
    "plt.plot('base', data=snow15, alpha=0.1, color='b')\n",
    "plt.plot('season_cum', data=snow15, alpha = 0.1, color='g')\n",
    "\n",
    "plt.plot('base', data=snow16, alpha=0.1, color='b')\n",
    "plt.plot('season_cum', data=snow16, alpha = 0.1, color='g')\n",
    "\n",
    "plt.plot('base', data=snow_avg, color='b')\n",
    "plt.plot('season_cum', data=snow_avg, color='g')\n",
    "\n",
    "plt.xticks([0, 30, 61, 92, 120, 150], ['Nov', 'Dec', 'Jan', 'Feb', 'Mar', 'Apr'])\n",
    "plt.ylabel('Depth (cm)')\n",
    "plt.ylim([0,1200])\n",
    "\n",
    "plt.savefig('telluride_agg.png', dpi=300)"
   ]
  },
  {
   "cell_type": "code",
   "execution_count": null,
   "metadata": {},
   "outputs": [],
   "source": [
    " "
   ]
  },
  {
   "cell_type": "code",
   "execution_count": null,
   "metadata": {},
   "outputs": [],
   "source": []
  }
 ],
 "metadata": {
  "kernelspec": {
   "display_name": "Python 3",
   "language": "python",
   "name": "python3"
  },
  "language_info": {
   "codemirror_mode": {
    "name": "ipython",
    "version": 3
   },
   "file_extension": ".py",
   "mimetype": "text/x-python",
   "name": "python",
   "nbconvert_exporter": "python",
   "pygments_lexer": "ipython3",
   "version": "3.8.3"
  }
 },
 "nbformat": 4,
 "nbformat_minor": 4
}
